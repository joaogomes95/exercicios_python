{
  "nbformat": 4,
  "nbformat_minor": 0,
  "metadata": {
    "colab": {
      "name": "Aula_02_Codelab_1.ipynb",
      "provenance": [],
      "collapsed_sections": [],
      "include_colab_link": true
    },
    "kernelspec": {
      "name": "python3",
      "display_name": "Python 3"
    },
    "language_info": {
      "name": "python"
    }
  },
  "cells": [
    {
      "cell_type": "markdown",
      "metadata": {
        "id": "view-in-github",
        "colab_type": "text"
      },
      "source": [
        "<a href=\"https://colab.research.google.com/github/joaogomes95/exercicios_python/blob/main/resoslucoes_matematica.ipynb\" target=\"_parent\"><img src=\"https://colab.research.google.com/assets/colab-badge.svg\" alt=\"Open In Colab\"/></a>"
      ]
    },
    {
      "cell_type": "markdown",
      "metadata": {
        "id": "n_igYcmdk6U9"
      },
      "source": [
        "# **Exercícios para treinar:**"
      ]
    },
    {
      "cell_type": "markdown",
      "metadata": {
        "id": "rRyZR6ZAlEHU"
      },
      "source": [
        "1. **Frase na tela** - Implemente um programa que escreve na tela a frase \"O primeiro programa a gente nunca esquece!\".\n",
        "\n",
        "2. **Etiqueta** - Elabore um programa que escreve seu nome completo na primeira linha, seu endereço na segunda e o CEP e telefone na terceira.\n",
        "\n",
        "3. **Letra de música** - Faça um programa que mostre na tela uma letra de música que você gosta (proibido letras do Justin Bieber).\n",
        "\n",
        "4. **Tabela de notas** - Você foi contratado ou contratada por uma escola pra fazer o sistema de boletim dos alunos. Como primeiro passo, escreva um programa que produza a seguinte saída:\n",
        "```\n",
        "ALUNO (A)  NOTA\n",
        "=========  ====\n",
        "ALINE      9.0\n",
        "MÁRIO      DEZ\n",
        "SÉRGIO     4.5\n",
        "SHIRLEY    7.0\n",
        "```\n",
        "\n",
        "5. **Menu** - Elabore um programa que mostre o seguinte menu na tela:\n",
        "```\n",
        "Cadastro de Clientes\n",
        "0 - Fim\n",
        "1 - Inclui\n",
        "2 - Altera\n",
        "3 - Exclui\n",
        "4 - Consulta\n",
        "Digite uma opção: \n",
        "```\n",
        "Ao digitar um valor para a opção, o programa exibe qual opção foi escolhida.\n",
        "```\n",
        "Você escolheu a opção '0'.\n",
        "```\n",
        "\n",
        "6. **Calculadora de Dano** - Escreva um programa que receba dois valores digitados pelo usuário:\n",
        "  - Quantidade de vida de um monstro (entre 10 e 50);\n",
        "  - Valor do ataque do jogador por turno (entre 5 e 10);\n",
        "  - Baseado nos valores digitados, exiba a quantidade de turnos que o jogador irá demorar para conseguir derrotar o monstro.\n",
        "  - ```\n",
        "    O jogador irá derrotar o monstro em 8 turnos.\n",
        "    ```"
      ]
    },
    {
      "cell_type": "markdown",
      "metadata": {
        "id": "HqgnPaCGqMPB"
      },
      "source": [
        "# Exercícios"
      ]
    },
    {
      "cell_type": "markdown",
      "metadata": {
        "id": "U-ltrv0jqPBq"
      },
      "source": [
        "## #01 - E os 10% do garçom?**\n",
        "\n",
        "- Defina uma variável para o valor de uma refeição que custou R$ 42,54;\n",
        "\n",
        "- Defina uma variável para o valor da taxa de serviço que é de 10%;\n",
        "\n",
        "- Defina uma variável que calcula o valor total da conta e exiba-o no console com essa formatação: R$ XXXX.XX."
      ]
    },
    {
      "cell_type": "code",
      "metadata": {
        "id": "jbcSv4NFkB1C",
        "colab": {
          "base_uri": "https://localhost:8080/"
        },
        "outputId": "fdcc30bd-b59b-434d-b8d2-a3b37d74a402"
      },
      "source": [
        "valorref = 42.54\n",
        "taxaserv = 1.1\n",
        "valortotal = valorref * taxaserv\n",
        "\n",
        "print(f'R${valortotal:.2f}')\n"
      ],
      "execution_count": 5,
      "outputs": [
        {
          "output_type": "stream",
          "text": [
            "R$46.79\n"
          ],
          "name": "stdout"
        }
      ]
    },
    {
      "cell_type": "markdown",
      "metadata": {
        "id": "JR3-KgsTqR41"
      },
      "source": [
        "## #02 - Qual o valor do troco?\n",
        "\n",
        "*   Defina uma variável para o valor de uma compra que custou R$100,98;\n",
        "\n",
        "*   Defina uma variável para o valor que o cliente pagou R$150,00;\n",
        "\n",
        "*   Defina uma variável que calcula o valor do troco e exiba-o no console com o valor final arredondado."
      ]
    },
    {
      "cell_type": "code",
      "metadata": {
        "id": "hBf3kE_pksAI",
        "colab": {
          "base_uri": "https://localhost:8080/"
        },
        "outputId": "68e9b13a-c8f0-4413-808a-fda238f928ad"
      },
      "source": [
        "vcompra = float(100.98)\n",
        "vpago = float(150)\n",
        "troco = vpago - vcompra\n",
        "print(f'R${troco:.2f}')\n"
      ],
      "execution_count": 7,
      "outputs": [
        {
          "output_type": "stream",
          "text": [
            "R$49.02\n"
          ],
          "name": "stdout"
        }
      ]
    },
    {
      "cell_type": "markdown",
      "metadata": {
        "id": "2Uu84Uqtkunt"
      },
      "source": [
        "## #03 - Você está na flor da idade?\n",
        "\n",
        "*  Defina uma variável para o valor do ano do nascimento;\n",
        "*  Defina uma variável para o valor do ano atual;\n",
        "*  Defina uma variável que calcula o valor final da idade da pessoa;\n",
        "*  Exiba uma mensagem final dizendo a idade da pessoa e a mensagem \"Você está na flor da idade\"."
      ]
    },
    {
      "cell_type": "code",
      "metadata": {
        "id": "kyXxJV3nk14Z"
      },
      "source": [
        ""
      ],
      "execution_count": null,
      "outputs": []
    },
    {
      "cell_type": "markdown",
      "metadata": {
        "id": "w1T7s2q0p-pt"
      },
      "source": [
        "# Mini projetos"
      ]
    },
    {
      "cell_type": "markdown",
      "metadata": {
        "id": "meUw7PTwqC-Y"
      },
      "source": [
        "## #01 - Conversor de moedas\n",
        "\n",
        "Crie um programa que solicite um um valor em real ao usuário e converta esse valor, para:\n",
        "\n",
        "- DOLAR,\n",
        "- EURO,\n",
        "- LIBRA ESTERLINA,\n",
        "- DÓLAR CANADENSE,\n",
        "- PESO ARGENTINO,\n",
        "- PESO CHILENO.\n",
        "\n",
        "Para esse exercício você precisará realizar uma pesquisa para saber a cotação de cada moeda em real. Mostrar o resultado no formato $ XXXX.XX"
      ]
    },
    {
      "cell_type": "code",
      "metadata": {
        "id": "q481snSClrXe"
      },
      "source": [
        ""
      ],
      "execution_count": null,
      "outputs": []
    },
    {
      "cell_type": "markdown",
      "metadata": {
        "id": "KK9PIcJ4qIF9"
      },
      "source": [
        "## #02 - Calculadora de aumento de aluguel\n",
        "\n",
        "Vamos construir um programa que irá calcular o aumento anual do seu aluguel em duas partes:\n",
        "\n",
        "### Parte 1\n",
        "A sua calculadora vai receber o `valor do aluguel` e calcular o aumento baseado no `IGPM de 31%`. A calculadora deve apresentar o aluguel reajustado no formato `R$ XXXX.XX`\n",
        "\n",
        "**Exemplo:**\n",
        "```\n",
        "Valor do aluguel = 1000\n",
        "Valor do aluguel reajustado = R$ 1310,00"
      ]
    },
    {
      "cell_type": "code",
      "metadata": {
        "id": "VdjHa9Csl0Lg",
        "colab": {
          "base_uri": "https://localhost:8080/"
        },
        "outputId": "14628bb1-3f18-44bb-dc8a-4d86b16ec44f"
      },
      "source": [
        "valoraluguel = int(input('Digite o valor do aluguel: '))\n",
        "igpm = 1.31\n",
        "total = valoraluguel * igpm\n",
        "print(f'R${total:.2f}')"
      ],
      "execution_count": 38,
      "outputs": [
        {
          "output_type": "stream",
          "text": [
            "Digite o valor do aluguel: 1000\n",
            "R$1310.00\n"
          ],
          "name": "stdout"
        }
      ]
    },
    {
      "cell_type": "markdown",
      "metadata": {
        "id": "lKTwnuNMl8rP"
      },
      "source": [
        "### Parte 2\n",
        "Agora, altere sua calculadora para receber além do `valor do aluguel`, o percentual do reajuste no formato `XX%`.  \n",
        "\n",
        "**Dica:** Descubra uma forma de transformar o percentual recebido em um número para efetuar o cálculo.\n",
        "\n",
        "**Exemplo:**\n",
        "```\n",
        "Valor do aluguel = 1000\n",
        "Percentual do reajuste = 31%\n",
        "Valor do aluguel reajustado = R% 1310,00\n",
        "```"
      ]
    },
    {
      "cell_type": "code",
      "metadata": {
        "colab": {
          "base_uri": "https://localhost:8080/"
        },
        "id": "kKgsLFYRb4HK",
        "outputId": "2bb9c4d2-4780-4f17-c068-c4bf8d19b948"
      },
      "source": [
        "valoraluguel = float(input('Digite o valor do aluguel: '))\n",
        "percentreaju = float(input('Digite o percentual de aumento: ').replace(\"%\",\"\")) \n",
        "subtotal = percentreaju / 100 * valoraluguel + valoraluguel\n",
        "\n",
        "print(f'R${subtotal:.2f}')"
      ],
      "execution_count": 65,
      "outputs": [
        {
          "output_type": "stream",
          "text": [
            "Digite o valor do aluguel: 1000\n",
            "Digite o percentual de aumento: 31%\n",
            "R$1310.00\n"
          ],
          "name": "stdout"
        }
      ]
    },
    {
      "cell_type": "code",
      "metadata": {
        "id": "aw2Zk_9KmA85",
        "colab": {
          "base_uri": "https://localhost:8080/"
        },
        "outputId": "143cc13a-3060-4a50-8ce3-767e0947180c"
      },
      "source": [
        "print (\"O primeiro programa a gente nunca esquece!\")"
      ],
      "execution_count": null,
      "outputs": [
        {
          "output_type": "stream",
          "text": [
            "O primeiro programa a gente nunca esquece!\n"
          ],
          "name": "stdout"
        }
      ]
    },
    {
      "cell_type": "code",
      "metadata": {
        "id": "hDMHy2bO-YLU"
      },
      "source": [
        ""
      ],
      "execution_count": null,
      "outputs": []
    },
    {
      "cell_type": "code",
      "metadata": {
        "colab": {
          "base_uri": "https://localhost:8080/"
        },
        "id": "fKz2tbf37Iaz",
        "outputId": "b381f24c-00bf-47f9-a2b8-9e1c51546bfa"
      },
      "source": [
        "nome = 'João Vitor Gomes'\n",
        "endereco = 'Rua Judite Leite Chaves Carvalho'\n",
        "cep = 2991010\n",
        "\n",
        "print(nome)\n",
        "print(endereco)\n",
        "print(cep)"
      ],
      "execution_count": null,
      "outputs": [
        {
          "output_type": "stream",
          "text": [
            "João Vitor Gomes\n",
            "Rua Judite Leite Chaves Carvalho\n",
            "2991010\n"
          ],
          "name": "stdout"
        }
      ]
    },
    {
      "cell_type": "markdown",
      "metadata": {
        "id": "Mbq9Fr6vARbS"
      },
      "source": [
        "Tabela de notas - Você foi contratado ou contratada por uma escola pra fazer o sistema de boletim dos alunos. Como primeiro passo, escreva um programa que produza a seguinte saída:\n",
        "\n",
        "ALUNO (A)  NOTA\n",
        "=========  ====\n",
        "ALINE      9.0\n",
        "MÁRIO      DEZ\n",
        "SÉRGIO     4.5\n",
        "SHIRLEY    7.0"
      ]
    },
    {
      "cell_type": "code",
      "metadata": {
        "id": "9bt8Rb31-aQX"
      },
      "source": [
        "\"\"\"Atirei o pau no gato\n",
        "Mas o gato não morreu\n",
        "Dona Chica admirou-se\n",
        "Do berro, do berro que o gato deu\n",
        "Miau!\n",
        "Atirei o pau no gato\n",
        "Mas o gato não morreu\n",
        "Dona Chica admirou-se\n",
        "Do berro, do berro que o gato deu\n",
        "Miau!\n",
        "Miau miau miau\n",
        "Miau miau miau\n",
        "Miau miau miau\n",
        "Miau miau miau\n",
        "Miau miau miau\n",
        "Miau miau miau\n",
        "Miau miau miau\n",
        "Atirei o pau no gato\n",
        "Mas o gato não morreu\n",
        "Dona Chica admirou-se\n",
        "Do berro, do berro que o gato deu\n",
        "Miau!\n",
        "Não atire o pau no gato\n",
        "Por que isso\n",
        "Não se faz\n",
        "O gatinho é nosso amigo\n",
        "Não devemos maltratar os animais\n",
        "Jamais!"
      ],
      "execution_count": null,
      "outputs": []
    },
    {
      "cell_type": "markdown",
      "metadata": {
        "id": "8RivvvPdAU5_"
      },
      "source": [
        "Tabela de notas - Você foi contratado ou contratada por uma escola pra fazer o sistema de boletim dos alunos. Como primeiro passo, escreva um programa que produza a seguinte saída:\n",
        "\n",
        "ALUNO (A)  NOTA\n",
        "=========  ====\n",
        "ALINE      9.0\n",
        "MÁRIO      DEZ\n",
        "SÉRGIO     4.5\n",
        "SHIRLEY    7.0"
      ]
    },
    {
      "cell_type": "code",
      "metadata": {
        "colab": {
          "base_uri": "https://localhost:8080/"
        },
        "id": "6jfrUkKAAKb-",
        "outputId": "a80b98d9-f015-4dac-fca3-54fad4d4009b"
      },
      "source": [
        "aluno1 = input('Digite o nome do aluno: ')\n",
        "nota1 = input('Digite a nota do aluno: ')\n",
        "aluno2 = input('Digite o nome do aluno: ')\n",
        "nota2 = input('Digite a nota do aluno: ')\n",
        "aluno3 = input('Digite o nome do aluno: ')\n",
        "nota3 = input('Digite a nota do aluno: ')\n",
        "aluno4 = input('Digite o nome do aluno: ')\n",
        "nota4 = input('Digite a nota do aluno: ')\n",
        "\n",
        "print('ALUNO (A) NOTA \\n ========= ====')\n",
        "print(f'{aluno1}\\t{nota1}\\n{aluno2}\\t{nota2}\\n{aluno3}\\t{nota3}\\n{aluno4}\\t{nota4}')"
      ],
      "execution_count": null,
      "outputs": [
        {
          "output_type": "stream",
          "text": [
            "Digite o nome do aluno: ALINE\n",
            "Digite a nota do aluno: 9.0\n",
            "Digite o nome do aluno: MÁRIO\n",
            "Digite a nota do aluno: DEZ\n",
            "Digite o nome do aluno: SÉRGIO\n",
            "Digite a nota do aluno: 4.5\n",
            "Digite o nome do aluno: SHIRLEY\n",
            "Digite a nota do aluno: 7.0\n",
            "ALUNO (A) NOTA \n",
            " ========= ====\n",
            "ALINE\t9.0\n",
            "MÁRIO\tDEZ\n",
            "SÉRGIO\t4.5\n",
            "SHIRLEY\t7.0\n"
          ],
          "name": "stdout"
        }
      ]
    },
    {
      "cell_type": "code",
      "metadata": {
        "id": "OP8Jc634IMt4"
      },
      "source": [
        "\"\"\"Menu - Elabore um programa que mostre o seguinte menu na tela:\n",
        "\n",
        "Cadastro de Clientes\n",
        "0 - Fim\n",
        "1 - Inclui\n",
        "2 - Altera\n",
        "3 - Exclui\n",
        "4 - Consulta\n",
        "Digite uma opção: \"\"\""
      ],
      "execution_count": null,
      "outputs": []
    },
    {
      "cell_type": "code",
      "metadata": {
        "colab": {
          "base_uri": "https://localhost:8080/"
        },
        "id": "mAxkRI41IB0N",
        "outputId": "a35ac3f9-8834-45f9-f567-1cb9f804cb9a"
      },
      "source": [
        "opcao = (\"\"\"Cadastro de Clientes\n",
        "0 - Fim\n",
        "1 - Inclui\n",
        "2 - Altera\n",
        "3 - Exclui\n",
        "4 - Consulta\"\"\")\n",
        "input('digite uma opção: ') \n",
        "print(f'{opcao}')"
      ],
      "execution_count": null,
      "outputs": [
        {
          "output_type": "stream",
          "text": [
            "digite uma opção: 2\n",
            "Cadastro de Clientes\n",
            "0 - Fim\n",
            "1 - Inclui\n",
            "2 - Altera\n",
            "3 - Exclui\n",
            "4 - Consulta\n"
          ],
          "name": "stdout"
        }
      ]
    },
    {
      "cell_type": "code",
      "metadata": {
        "id": "93vWp_P-PG30"
      },
      "source": [
        "\"\"\"Calculadora de Dano - Escreva um programa que receba dois valores digitados pelo usuário:\n",
        "\n",
        "Quantidade de vida de um monstro (entre 10 e 50);\n",
        "Valor do ataque do jogador por turno (entre 5 e 10);\n",
        "Baseado nos valores digitados, exiba a quantidade de turnos que o jogador irá demorar para conseguir derrotar o monstro.\n",
        "O jogador irá derrotar o monstro em 8 turnos.\"\"\""
      ],
      "execution_count": null,
      "outputs": []
    },
    {
      "cell_type": "code",
      "metadata": {
        "colab": {
          "base_uri": "https://localhost:8080/"
        },
        "id": "g22gy803PHaE",
        "outputId": "5731e04e-902a-4d80-c24b-e2044c097fda"
      },
      "source": [
        "\n",
        "vidamonstro = int(input('Vida do Monstro: '))\n",
        "valorataque = int(input('Valor do ataque: '))\n",
        "rodadas = int(vidamonstro // valorataque)\n",
        "print(f'O número de rodadas necessárias: {rodadas}')\n"
      ],
      "execution_count": null,
      "outputs": [
        {
          "output_type": "stream",
          "text": [
            "Vida do Monstro: 50\n",
            "Valor do ataque: 5\n",
            "O número de rodadas necessárias: 10\n"
          ],
          "name": "stdout"
        }
      ]
    },
    {
      "cell_type": "code",
      "metadata": {
        "id": "S3W8A0ybT-72"
      },
      "source": [
        "\"\"\"#01 - E os 10% do garçom?**\n",
        "Defina uma variável para o valor de uma refeição que custou R$ 42,54;\n",
        "\n",
        "Defina uma variável para o valor da taxa de serviço que é de 10%;\n",
        "\n",
        "Defina uma variável que calcula o valor total da conta e exiba-o no console com essa formatação: R$ XXXX.XX.\"\"\""
      ],
      "execution_count": null,
      "outputs": []
    },
    {
      "cell_type": "code",
      "metadata": {
        "colab": {
          "base_uri": "https://localhost:8080/"
        },
        "id": "qpsqYtPzUBC-",
        "outputId": "04ee80c9-ad35-49d2-a088-c0aca086e2b2"
      },
      "source": [
        "valorref = 42.54\n",
        "taxaservico = 1.1\n",
        "total = valorref * taxaservico\n",
        "\n",
        "print(f'R${total:.2f}')\n"
      ],
      "execution_count": null,
      "outputs": [
        {
          "output_type": "stream",
          "text": [
            "R$46.79\n"
          ],
          "name": "stdout"
        }
      ]
    },
    {
      "cell_type": "code",
      "metadata": {
        "id": "iKUl1cM5WazI"
      },
      "source": [
        "\"\"\"#02 - Qual o valor do troco?\n",
        "Defina uma variável para o valor de uma compra que custou R$100,98;\n",
        "\n",
        "Defina uma variável para o valor que o cliente pagou R$150,00;\n",
        "\n",
        "Defina uma variável que calcula o valor do troco e exiba-o no console com o valor final arredondado.\"\"\""
      ],
      "execution_count": null,
      "outputs": []
    },
    {
      "cell_type": "code",
      "metadata": {
        "colab": {
          "base_uri": "https://localhost:8080/"
        },
        "id": "F5nN_X9lWcSG",
        "outputId": "8d009817-d58d-4ce2-a4e8-2833e58f3716"
      },
      "source": [
        "valorcompra = 100.98\n",
        "valorpago = 150\n",
        "troco = int(valorpago - valorcompra)\n",
        "\n",
        "print(troco)"
      ],
      "execution_count": null,
      "outputs": [
        {
          "output_type": "stream",
          "text": [
            "49\n"
          ],
          "name": "stdout"
        }
      ]
    },
    {
      "cell_type": "code",
      "metadata": {
        "id": "-gjxC3Z4Yctw"
      },
      "source": [
        "\"\"\"#03 - Você está na flor da idade?\n",
        "Defina uma variável para o valor do ano do nascimento;\n",
        "Defina uma variável para o valor do ano atual;\n",
        "Defina uma variável que calcula o valor final da idade da pessoa;\n",
        "Exiba uma mensagem final dizendo a idade da pessoa e a mensagem \"Você está na flor da idade\".\"\"\""
      ],
      "execution_count": null,
      "outputs": []
    },
    {
      "cell_type": "code",
      "metadata": {
        "colab": {
          "base_uri": "https://localhost:8080/"
        },
        "id": "q3oi4RRuYeGz",
        "outputId": "f265bb49-e29f-42a6-a28a-f89553cca0d1"
      },
      "source": [
        "anonasc = int(input('Digite seu ano de nascimento: '))\n",
        "anoatual = 2021\n",
        "idade = anoatual - anonasc\n",
        "\n",
        "print(f'Você tem {idade} anos, e está na flor da idade!')"
      ],
      "execution_count": null,
      "outputs": [
        {
          "output_type": "stream",
          "text": [
            "Digite seu ano de nascimento: 1995\n",
            "Você tem 26 anos, e está na flor da idade!\n"
          ],
          "name": "stdout"
        }
      ]
    },
    {
      "cell_type": "code",
      "metadata": {
        "id": "RDxynwNcZwA-"
      },
      "source": [
        "\"\"\"#01 - Conversor de moedas\n",
        "Crie um programa que solicite um um valor em real ao usuário e converta esse valor, para:\n",
        "\n",
        "DOLAR,\n",
        "EURO,\n",
        "LIBRA ESTERLINA,\n",
        "DÓLAR CANADENSE,\n",
        "PESO ARGENTINO,\n",
        "PESO CHILENO.\n",
        "Para esse exercício você precisará realizar uma pesquisa para saber a cotação de cada moeda em real. Mostrar o resultado no formato $ XXXX.XX\"\"\""
      ],
      "execution_count": null,
      "outputs": []
    },
    {
      "cell_type": "code",
      "metadata": {
        "colab": {
          "base_uri": "https://localhost:8080/"
        },
        "id": "CUJD8YnnZxn_",
        "outputId": "b14909d4-f5d8-45df-a8e8-73d66032f384"
      },
      "source": [
        "real = int(input('Digite o valor em real: '))\n",
        "dolar = real * 0.20\n",
        "euro = real * 0.16\n",
        "libra = real * 0.14\n",
        "dolarcanadence = real * 0.24\n",
        "pesoargentino = real * 18.85\n",
        "pesochileno = real * 142.50\n",
        "\n",
        "print(f'Dolar: R${dolar:.2f}')\n",
        "print(f'Euro: R${euro:.2f}')\n",
        "print(f'Libra: R${libra:.2f}')\n",
        "print(f'Dolar Canadence: R${dolarcanadence:.2f}')\n",
        "print(f'Peso Argentino: R${pesoargentino:.2f}')\n",
        "print(f'Peso Chileno: R${pesochileno:.2f}')\n"
      ],
      "execution_count": null,
      "outputs": [
        {
          "output_type": "stream",
          "text": [
            "Digite o valor em real: 1000\n",
            "Dolar: R$200.00\n",
            "Euro: R$160.00\n",
            "Libra: R$140.00\n",
            "Dolar Canadence: R$240.00\n",
            "Peso Argentino: R$18850.00\n",
            "Peso Chileno: R$142500.00\n"
          ],
          "name": "stdout"
        }
      ]
    },
    {
      "cell_type": "code",
      "metadata": {
        "id": "cOMhv9qsc6oC"
      },
      "source": [
        ""
      ],
      "execution_count": null,
      "outputs": []
    }
  ]
}