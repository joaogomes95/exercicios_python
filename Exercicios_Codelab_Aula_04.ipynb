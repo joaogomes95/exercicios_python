{
  "nbformat": 4,
  "nbformat_minor": 0,
  "metadata": {
    "colab": {
      "name": "Exercicios_Codelab_Aula_04.ipynb",
      "provenance": [],
      "collapsed_sections": [],
      "include_colab_link": true
    },
    "kernelspec": {
      "name": "python3",
      "display_name": "Python 3"
    },
    "language_info": {
      "name": "python"
    }
  },
  "cells": [
    {
      "cell_type": "markdown",
      "metadata": {
        "id": "view-in-github",
        "colab_type": "text"
      },
      "source": [
        "<a href=\"https://colab.research.google.com/github/joaogomes95/exercicios_python/blob/main/Exercicios_Codelab_Aula_04.ipynb\" target=\"_parent\"><img src=\"https://colab.research.google.com/assets/colab-badge.svg\" alt=\"Open In Colab\"/></a>"
      ]
    },
    {
      "cell_type": "markdown",
      "metadata": {
        "id": "SW-cnnj3AAlE"
      },
      "source": [
        "## Exercício 01\n",
        "\n",
        "Faça um programa que pergunte ao usuário um número e valide se o numero é par ou impar:\n",
        "\n",
        "* Crie uma variável para receber o valor, com conversão para int\n",
        "* Para um número ser par, a divisão dele por 2 tem que dar resto 0"
      ]
    },
    {
      "cell_type": "code",
      "metadata": {
        "id": "ZeuCDPZQFT9T"
      },
      "source": [
        "n1 = int(input('Digite um número: '))\n",
        "\n",
        "if n1 % 2 == 0:\n",
        "  print('Número é par')\n",
        "else:\n",
        "  print('Número é impar')  "
      ],
      "execution_count": null,
      "outputs": []
    },
    {
      "cell_type": "markdown",
      "metadata": {
        "id": "jXVUBuN3DcU-"
      },
      "source": [
        "## Exercício 02\n",
        "\n",
        "> Parte 1\n",
        "\n",
        "Faça um script que peça um valor e mostre na tela se o valor é positivo ou negativo.\n",
        "\n",
        "> Parte 2\n",
        "\n",
        "Agora implemente a funcionalidade de não aceitar o número 0, no input. (esse vai além do explicado até agora)"
      ]
    },
    {
      "cell_type": "code",
      "metadata": {
        "id": "bsM4V6SeHwJr"
      },
      "source": [
        "valor = float(input('Digite um número: '))\n",
        "\n",
        "if valor == 0:\n",
        "  print('Número neutro')\n",
        "else:  \n",
        "\n",
        "  if valor >= 1:\n",
        "    print('É positivo')\n",
        "  else:\n",
        "    print('É negativo')\n"
      ],
      "execution_count": null,
      "outputs": []
    },
    {
      "cell_type": "markdown",
      "metadata": {
        "id": "90mUizLXOKd3"
      },
      "source": [
        "## Exercício 03\n",
        "\n",
        "Faça um programa que peça dois números, imprima o maior deles ou imprima \"Numeros iguais\" se os números forem iguais."
      ]
    },
    {
      "cell_type": "code",
      "metadata": {
        "id": "7yXB2kfUVYuD"
      },
      "source": [
        "n1 = float(input('Digite um número: '))\n",
        "n2 = float(input('Digite outro número: '))\n",
        "\n",
        "\n",
        "if n1 > n2:\n",
        "  print(n1)\n",
        "elif n1 == n2:  \n",
        "  print('numeros iguais')\n",
        "else:\n",
        "  print(n2)"
      ],
      "execution_count": null,
      "outputs": []
    },
    {
      "cell_type": "markdown",
      "metadata": {
        "id": "9BATv7tsOWOI"
      },
      "source": [
        "## Exercício 04\n",
        "\n",
        "Crie um programa que verifique se uma letra digitada é \"F\" ou \"M\". Conforme a letra, escrever: F - Feminino, M - Masculino, caso escreva outra letra: Sexo Biológico Inválido."
      ]
    },
    {
      "cell_type": "code",
      "metadata": {
        "id": "pRm8kyI7Wnp4"
      },
      "source": [
        "resposta = input('Digite qual seu sexo? [F/M]: ').strip().upper()[0]\n",
        "\n",
        "if resposta == 'F':\n",
        "  print('Feminino')\n",
        "elif resposta == 'M':\n",
        "  print('Masculino')\n",
        "else:\n",
        "  print('Sexo não encontrado')"
      ],
      "execution_count": null,
      "outputs": []
    },
    {
      "cell_type": "markdown",
      "metadata": {
        "id": "WX2j2ITtY3G5"
      },
      "source": [
        "### Exercício 05\n",
        "\n",
        "Crie um programa em Python que peça a nota do aluno, que deve ser um float entre 0.00 e 10.0\n",
        "\n",
        "* Se a nota for menor que 6.0, deve exibir a nota F.\n",
        "\n",
        "* Se a nota for de 6.0 até 7.0, deve exibir a nota D.\n",
        "\n",
        "* Se a nota for entre 7.0 e 8.0, deve exibir a nota C.\n",
        "\n",
        "* Se a nota for entre 8.0 e 9.0, deve exibir a nota B.\n",
        "\n",
        "* Por fim, se for entre 9.0 e 10.0, deve exibir um belo de um A."
      ]
    },
    {
      "cell_type": "code",
      "metadata": {
        "id": "4CjqLlFWY5Z-",
        "colab": {
          "base_uri": "https://localhost:8080/"
        },
        "outputId": "d74cc55f-5c0d-496e-c94f-cff1946509bc"
      },
      "source": [
        "nota = float(input('Digite sua nota entre 0.00 e 10.0: '))\n",
        "\n",
        "if nota < 6.0:\n",
        "  print('Nota F')\n",
        "elif nota <= 7:\n",
        "  print('Nota D')\n",
        "elif nota <= 8:\n",
        "  print('Nota C')\n",
        "elif nota <= 9:\n",
        "  print('Nota B')\n",
        "elif nota <= 10:\n",
        "  print('Nota A')\n",
        "else:\n",
        "  print('Nota não encontrada')\n",
        "\n",
        "\n"
      ],
      "execution_count": 90,
      "outputs": [
        {
          "output_type": "stream",
          "text": [
            "Digite sua nota entre 0.00 e 10.0: 54\n",
            "Nota não encontrada\n"
          ],
          "name": "stdout"
        }
      ]
    },
    {
      "cell_type": "markdown",
      "metadata": {
        "id": "xep4W_T-s-Ra"
      },
      "source": [
        "# *Mini Projetos*"
      ]
    },
    {
      "cell_type": "markdown",
      "metadata": {
        "id": "4YbMlSEZG7UM"
      },
      "source": [
        "## **PROJETO 01**\n",
        "\n",
        "*   Escreva um programa que receba uma string digitada pelo usuário;\n",
        "*   Caso a string seja \"medieval\", exiba no console \"espada\";\n",
        "*   Caso contrário, se a string for \"futurista\", exiba no console \"sabre de luz\";\n",
        "*   Caso contrário, exiba no console \"Tente novamente\""
      ]
    },
    {
      "cell_type": "code",
      "metadata": {
        "id": "tn9QH5pVG8Rq",
        "colab": {
          "base_uri": "https://localhost:8080/"
        },
        "outputId": "6230f7af-bb5b-4627-f843-7330a3afee3a"
      },
      "source": [
        "# Resposta:\n",
        "usuario = input('Digite sua classe: ')\n",
        "\n",
        "if usuario == ('medieval'):\n",
        "  print('espada')\n",
        "elif usuario == ('futurista'):\n",
        "  print('sabre de luz')\n",
        "else:\n",
        "  print('Tente Novamente')"
      ],
      "execution_count": 96,
      "outputs": [
        {
          "output_type": "stream",
          "text": [
            "Digite sua classe: futurista\n",
            "sabre de luz\n"
          ],
          "name": "stdout"
        }
      ]
    },
    {
      "cell_type": "markdown",
      "metadata": {
        "id": "zUGk1OiNHDik"
      },
      "source": [
        "## **PROJETO 02**\n",
        "\n",
        "* Escreva um programa que receba um ataque de espada ou sabre digitada pelo usuário;\n",
        "\n",
        "* Caso o ataque seja \"espada\", exiba no console \"VOCÊ AINDA NÃO MATOU O CHEFÃO\";\n",
        "\n",
        "* Caso contrário, se o ataque for \"sabre\", exiba no console \"VOCÊ DERROTOU O CHEFÃO COM O SABRE DE LUZ\";\n",
        "\n",
        "* Caso contrário, exiba no console \"ATAQUE NOVAMENTE\""
      ]
    },
    {
      "cell_type": "code",
      "metadata": {
        "id": "eNZokIIOHHkp",
        "colab": {
          "base_uri": "https://localhost:8080/"
        },
        "outputId": "7685028e-9bf1-4c3a-c063-18842801f5ab"
      },
      "source": [
        "# Resposta:\n",
        "ataque = input('Digite seu ataque: ')\n",
        "\n",
        "if ataque == ('espada'):\n",
        "  print('VOCÊ AINDA NÃO MATOU O CHEFÃO')\n",
        "elif ataque == ('sabre'):\n",
        "  print(('VOCÊ DERROTOU O CHEFÃO COM O SABRE DE LUZ'))\n",
        "else:\n",
        "  print('ATAQUE NOVAMENTE')"
      ],
      "execution_count": 98,
      "outputs": [
        {
          "output_type": "stream",
          "text": [
            "Digite seu ataque: espada\n",
            "VOCÊ AINDA NÃO MATOU O CHEFÃO\n"
          ],
          "name": "stdout"
        }
      ]
    },
    {
      "cell_type": "markdown",
      "metadata": {
        "id": "NRhLAMa6ZfqU"
      },
      "source": [
        "## **DESAFIO 01**\n",
        "\n",
        "**Reajuste salarial**\n",
        "\n",
        "As empresas @.com resolveram dar um aumento de salário aos seus colaboradores e lhe contrataram para desenvolver o programa que calculará os reajustes.\n",
        "\n",
        "Faça um programa que recebe o salário de um colaborador e o reajuste segundo o seguinte critério, baseado no salário atual:\n",
        "* salários até R$ 280,00 (incluindo) : aumento de 20%\n",
        "\n",
        "* salários entre R\\$ 280,00 e R$ 700,00 : aumento de 15%\n",
        "\n",
        "* salários entre R\\$ 700,00 e R$ 1500,00 : aumento de 10%\n",
        "\n",
        "* salários de R$ 1500,00 em diante : aumento de 5% \n",
        "\n",
        "Após o aumento ser realizado, informe na tela:\n",
        "* o salário antes do reajuste;\n",
        "\n",
        "* o percentual de aumento aplicado;\n",
        "\n",
        "* o valor do aumento;\n",
        "\n",
        "* o novo salário, após o aumento.\""
      ]
    },
    {
      "cell_type": "code",
      "metadata": {
        "id": "VpC5oZINZXzt",
        "colab": {
          "base_uri": "https://localhost:8080/"
        },
        "outputId": "6a4e8ad9-5b92-4140-d743-ef0bb3372fab"
      },
      "source": [
        "salario = float(input('Digite seu salário atual: '))\n",
        "\n",
        "if salario <= 280:\n",
        "  salario = (salario * 0.2) + salario\n",
        "  print(f'Seu novo salário é: R${salario:.2f}')\n",
        "  print(f'Percentual de aumento aplicado foi de 20% ')\n",
        "elif salario <= 700:\n",
        "  salario = (salario * 0.15) + salario\n",
        "  print(f'Seu novo salário é: R${salario:.2f}')\n",
        "  print(f'Percentual de aumento aplicado foi de 15% ')\n",
        "elif salario <= 1500:\n",
        "  salario = (salario * 0.1) + salario\n",
        "  print(f'Seu novo salário é: R${salario:.2f}')\n",
        "  print(f'Percentual de aumento aplicado foi de 10% ')\n",
        "elif salario > 1500:\n",
        "  salario = (salario * 0.05) + salario\n",
        "  print(f'Seu novo salário é: R${salario:.2f}')\n",
        "  print(f'Percentual de aumento aplicado foi de 5% ')\n",
        "else:\n",
        "  print('moio')\n"
      ],
      "execution_count": 158,
      "outputs": [
        {
          "output_type": "stream",
          "text": [
            "Digite seu salário atual: 280\n",
            "Seu novo salário é: R$336.00\n",
            "Percentual de aumento aplicado foi de 20% \n",
            "67.2\n"
          ],
          "name": "stdout"
        }
      ]
    },
    {
      "cell_type": "markdown",
      "metadata": {
        "id": "HvThpbU4aBGy"
      },
      "source": [
        "## **DESAFIO 02**\n",
        "\n",
        "**Jogo da adivinhação**\n",
        "\n",
        "Escreva um programa que faça o computador “pensar” em um número inteiro entre 0 e 10 e peça para o usuário tentar descobrir qual foi o número escolhido pelo computador. O programa deverá escrever na tela se o usuário venceu ou perdeu."
      ]
    },
    {
      "cell_type": "code",
      "metadata": {
        "id": "TVeHZbyQZIzO",
        "colab": {
          "base_uri": "https://localhost:8080/"
        },
        "outputId": "2afac974-df35-41cf-e275-569ff2ec1323"
      },
      "source": [
        "import random\n",
        "\n",
        "aleatorio = random.randint(1,10)\n",
        "player = int(input('Digite um número entre 0 e 10: '))\n",
        "\n",
        "if player == aleatorio:\n",
        "  print(f'Você acertou {aleatorio}')\n",
        "else:\n",
        "  print(f'Você silas, silascou. O número correto é {aleatorio}')"
      ],
      "execution_count": 201,
      "outputs": [
        {
          "output_type": "stream",
          "text": [
            "Digite um número entre 0 e 10: 2\n",
            "Você silas, silascou. O número correto é 5\n"
          ],
          "name": "stdout"
        }
      ]
    },
    {
      "cell_type": "markdown",
      "metadata": {
        "id": "mjLFAUooaOH1"
      },
      "source": [
        "## **Desafio 03**\n",
        "\n",
        "**Caixa eletrônico**\n",
        "\n",
        "Faça um Programa para um caixa eletrônico. O programa deverá perguntar ao usuário a valor do saque e depois informar quantas notas de cada valor serão fornecidas. As notas disponíveis serão as de 1, 5, 10, 50 e 100 reais. O valor mínimo é de 10 reais e o máximo de 600 reais. O programa não deve se preocupar com a quantidade de notas existentes na máquina.\n",
        "\n",
        "* Exemplo 1: Para sacar a quantia de 256 reais, o programa fornece duas notas de 100, uma nota de 50, uma nota de 5 e uma nota de 1;\n",
        "\n",
        "* Exemplo 2: Para sacar a quantia de 399 reais, o programa fornece três notas de 100, uma nota de 50, quatro notas de 10, uma nota de 5 e quatro notas de 1.\n",
        "\n"
      ]
    },
    {
      "cell_type": "code",
      "metadata": {
        "id": "sH65bTx-ZMLh"
      },
      "source": [
        ""
      ],
      "execution_count": null,
      "outputs": []
    }
  ]
}