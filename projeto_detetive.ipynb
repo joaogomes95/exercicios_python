{
  "nbformat": 4,
  "nbformat_minor": 0,
  "metadata": {
    "colab": {
      "name": "Untitled8.ipynb",
      "provenance": [],
      "collapsed_sections": [],
      "authorship_tag": "ABX9TyPbo2ro+90JQTgEh66mmEx9",
      "include_colab_link": true
    },
    "kernelspec": {
      "name": "python3",
      "display_name": "Python 3"
    },
    "language_info": {
      "name": "python"
    }
  },
  "cells": [
    {
      "cell_type": "markdown",
      "metadata": {
        "id": "view-in-github",
        "colab_type": "text"
      },
      "source": [
        "<a href=\"https://colab.research.google.com/github/joaogomes95/exercicios_python/blob/main/projeto_detetive.ipynb\" target=\"_parent\"><img src=\"https://colab.research.google.com/assets/colab-badge.svg\" alt=\"Open In Colab\"/></a>"
      ]
    },
    {
      "cell_type": "code",
      "metadata": {
        "id": "kp7DQgEchHp-"
      },
      "source": [
        "\"\"\"Projeto 01 – Detetive\n",
        "Esse projeto tem a finalidade de fixar os conhecimentos de Variáveis, Print, Input\n",
        "e Condicionais, para isso crie um programa que faça 5 perguntas para uma\n",
        "pessoa sobre um crime. As perguntas são:\n",
        "• \"Você telefonou para a vítima?\"\n",
        "• \" Você esteve no local do crime?\"\n",
        "• \" Você mora perto da vítima?\"\n",
        "• \" Você devia para a vítima?\"\n",
        "• \" Você já trabalhou com a vítima?\"\n",
        "O programa deve, no final, emitir uma classificação sobre a participação da\n",
        "pessoa no crime.\n",
        "Se a pessoa responder positivamente a:\n",
        "• 2 questões ela deve ser classificada como \"Suspeita\",\n",
        "• Entre 3 e 4 como \"Cúmplice\"\n",
        "• 5 como \"Assassino\".\n",
        "• Caso contrário, ele será classificado como \"Inocente\". \"\"\"\n",
        "\n",
        "pergunta1 = str(input('Você telefonou para a vítima?[S/N]: ')).strip().upper()[0]\n",
        "pergunta2 = str(input('Você esteve no local do crime?[S/N]: ')).strip().upper()[0]\n",
        "pergunta3 = str(input('Você mora perto da vítima?[S/N]: ')).strip().upper()[0]\n",
        "pergunta4 = str(input('Você devia para a vítima?[S/N]: ')).strip().upper()[0]\n",
        "pergunta5 = str(input('Você já trabalhou com a vítima?[S/N]: ')).strip().upper()[0]\n",
        "\n",
        "if pergunta1 == 'S':\n",
        "  pergunta1 = 1\n",
        "if pergunta2 == 'S':\n",
        "  pergunta2 = 1 \n",
        "if pergunta3 == 'S':\n",
        "  pergunta3 = 1\n",
        "if pergunta4 == 'S':\n",
        "  pergunta4 = 1\n",
        "if pergunta5 == 'S':\n",
        "  pergunta5 = 1 \n",
        "if pergunta1 == 'N':\n",
        "  pergunta1 = 0\n",
        "if pergunta2 == 'N':\n",
        "  pergunta2 = 0 \n",
        "if pergunta3 == 'N':\n",
        "  pergunta3 = 0\n",
        "if pergunta4 == 'N':\n",
        "  pergunta4 = 0\n",
        "if pergunta5 == 'N':\n",
        "  pergunta5 = 0      \n",
        "if pergunta1 + pergunta2 + pergunta3 + pergunta4 + pergunta5 == 2:\n",
        "  print('Você é Suspeita')\n",
        "elif pergunta1 + pergunta2 + pergunta3 + pergunta4 + pergunta5 <= 4:\n",
        "  print('Você é Cúmplice')\n",
        "elif pergunta1 + pergunta2 + pergunta3 + pergunta4 + pergunta5 == 5:\n",
        "  print('Você é Assassino')\n",
        "else:\n",
        "  print('Você é Inocente')"
      ],
      "execution_count": null,
      "outputs": []
    }
  ]
}