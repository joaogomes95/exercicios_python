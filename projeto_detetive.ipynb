{
  "nbformat": 4,
  "nbformat_minor": 0,
  "metadata": {
    "colab": {
      "name": "Untitled8.ipynb",
      "provenance": [],
      "collapsed_sections": [],
      "authorship_tag": "ABX9TyN1X2By/XzMFht9mODyUp4r",
      "include_colab_link": true
    },
    "kernelspec": {
      "name": "python3",
      "display_name": "Python 3"
    },
    "language_info": {
      "name": "python"
    }
  },
  "cells": [
    {
      "cell_type": "markdown",
      "metadata": {
        "id": "view-in-github",
        "colab_type": "text"
      },
      "source": [
        "<a href=\"https://colab.research.google.com/github/joaogomes95/exercicios_python/blob/main/projeto_detetive.ipynb\" target=\"_parent\"><img src=\"https://colab.research.google.com/assets/colab-badge.svg\" alt=\"Open In Colab\"/></a>"
      ]
    },
    {
      "cell_type": "code",
      "metadata": {
        "colab": {
          "base_uri": "https://localhost:8080/"
        },
        "id": "mG4-Ayaa19-I",
        "outputId": "3cf439d0-d8c6-4459-ae04-d6638b5ca51d"
      },
      "source": [
        "pergunta1 = str(input('Você telefonou para a vítima?[Sim/N]: ')).upper().capitalize()\n",
        "pergunta2 = str(input('Você esteve no local do crime?[S/N]: ')).upper().capitalize()\n",
        "pergunta3 = str(input('Você mora perto da vítima?[S/N]: ')).upper().capitalize()\n",
        "pergunta4 = str(input('Você devia para a vítima?[S/N]: ')).upper().capitalize()\n",
        "pergunta5 = str(input('Você já trabalhou com a vítima?[S/N]: ')).upper().capitalize()\n",
        "\n",
        "if pergunta1 == 'S':\n",
        "  pergunta1 == 1\n",
        "elif pergunta2 == 'S':\n",
        "  pergunta2 == 1\n",
        "elif pergunta3 == 'S':\n",
        "  pergunta3 == 1\n",
        "elif pergunta4 == 'S':\n",
        "  pergunta4 == 1\n",
        "elif pergunta5 == 'S':\n",
        "  pergunta5 == 1\n",
        "if pergunta1 + pergunta2 + pergunta3 + pergunta4 + pergunta5 == 2:\n",
        "   print('Suspeito')\n",
        "   "
      ],
      "execution_count": 127,
      "outputs": [
        {
          "output_type": "stream",
          "text": [
            "Você telefonou para a vítima?[Sim/N]: s\n",
            "Você esteve no local do crime?[S/N]: s\n",
            "Você mora perto da vítima?[S/N]: n\n",
            "Você devia para a vítima?[S/N]: n\n",
            "Você já trabalhou com a vítima?[S/N]: n\n"
          ],
          "name": "stdout"
        }
      ]
    },
    {
      "cell_type": "code",
      "metadata": {
        "colab": {
          "base_uri": "https://localhost:8080/"
        },
        "id": "NT1EIKUNSKhh",
        "outputId": "c09f05cb-29f5-4956-c9e2-c364c3750191"
      },
      "source": [
        "pergunta1 = str(input('Você telefonou para a vítima?[S/N]: ')).upper()\n",
        "pergunta2 = str(input('Você esteve no local do crime?[S/N]: ')).upper()\n",
        "pergunta3 = str(input('Você mora perto da vítima?[S/N]: ')).upper()\n",
        "pergunta4 = str(input('Você devia para a vítima?[S/N]: ')).upper()\n",
        "pergunta5 = str(input('Você já trabalhou com a vítima?[S/N]: ')).upper()\n",
        "\n",
        "if pergunta1 == 'S':\n",
        "  pergunta1 == 1\n",
        "if pergunta2 == 'S':\n",
        "  pergunta2 == 1\n",
        "if pergunta3 == 'S':\n",
        "  pergunta3 == 1\n",
        "if pergunta4 == 'S':\n",
        "  pergunta4 == 1\n",
        "if pergunta5 == 'S':\n",
        "  pergunta5 == 1\n",
        "if (pergunta1) + (pergunta2) + (pergunta3) + (pergunta4) + (pergunta5) == 2:\n",
        "    print('Suspeito')\n",
        "if pergunta1 + pergunta2 + pergunta3 + pergunta4 + pergunta5 == 3 <=4:\n",
        "    print('Cúmplice')\n",
        "if pergunta1 + pergunta2 + pergunta3 + pergunta4 + pergunta5 == 5:\n",
        "    print('Assassino')\n",
        "else:\n",
        "  print('Inocente')"
      ],
      "execution_count": 129,
      "outputs": [
        {
          "output_type": "stream",
          "text": [
            "Você telefonou para a vítima?[S/N]: s\n",
            "Você esteve no local do crime?[S/N]: s\n",
            "Você mora perto da vítima?[S/N]: n\n",
            "Você devia para a vítima?[S/N]: n\n",
            "Você já trabalhou com a vítima?[S/N]: n\n",
            "Inocente\n"
          ],
          "name": "stdout"
        }
      ]
    },
    {
      "cell_type": "code",
      "metadata": {
        "colab": {
          "base_uri": "https://localhost:8080/"
        },
        "id": "kp7DQgEchHp-",
        "outputId": "bcf864d8-cfba-4136-aae4-377fca8c460c"
      },
      "source": [
        "pergunta1 = str(input('Você telefonou para a vítima?[S/N]: ')).upper()\n",
        "pergunta2 = str(input('Você esteve no local do crime?[S/N]: ')).upper()\n",
        "pergunta3 = str(input('Você mora perto da vítima?[S/N]: ')).upper()\n",
        "pergunta4 = str(input('Você devia para a vítima?[S/N]: ')).upper()\n",
        "pergunta5 = str(input('Você já trabalhou com a vítima?[S/N]: ')).upper()\n",
        "\n",
        "if pergunta1 == 'S':\n",
        "  pergunta1 = 1\n",
        "if pergunta2 == 'S':\n",
        "  pergunta2 = 1 \n",
        "if pergunta3 == 'S':\n",
        "  pergunta3 = 1\n",
        "if pergunta4 == 'S':\n",
        "  pergunta4 = 1\n",
        "if pergunta5 == 'S':\n",
        "  pergunta5 = 1 \n",
        "if pergunta1 == 'N':\n",
        "  pergunta1 = 0\n",
        "if pergunta2 == 'N':\n",
        "  pergunta2 = 0 \n",
        "if pergunta3 == 'N':\n",
        "  pergunta3 = 0\n",
        "if pergunta4 == 'N':\n",
        "  pergunta4 = 0\n",
        "if pergunta5 == 'N':\n",
        "  pergunta5 = 0      \n",
        "if pergunta1 + pergunta2 + pergunta3 + pergunta4 + pergunta5 == 2:\n",
        "  print('é Suspeita')\n",
        "elif pergunta1 + pergunta2 + pergunta3 + pergunta4 + pergunta5 == 3:\n",
        "  print('é Cúmplice')\n",
        "elif pergunta1 + pergunta2 + pergunta3 + pergunta4 + pergunta5 == 4:\n",
        "  print('é Cúmplice')\n",
        "elif pergunta1 + pergunta2 + pergunta3 + pergunta4 + pergunta5 == 5:\n",
        "  print('é Assassino')\n",
        "else:\n",
        "  print('Inocente')"
      ],
      "execution_count": 223,
      "outputs": [
        {
          "output_type": "stream",
          "text": [
            "Você telefonou para a vítima?[S/N]: s\n",
            "Você esteve no local do crime?[S/N]: n\n",
            "Você mora perto da vítima?[S/N]: n\n",
            "Você devia para a vítima?[S/N]: n\n",
            "Você já trabalhou com a vítima?[S/N]: n\n",
            "Inocente\n"
          ],
          "name": "stdout"
        }
      ]
    }
  ]
}